{
 "cells": [
  {
   "cell_type": "code",
   "execution_count": 14,
   "metadata": {},
   "outputs": [
    {
     "name": "stdout",
     "output_type": "stream",
     "text": [
      "MongoDB connection successful\n"
     ]
    }
   ],
   "source": [
    "import pymongo\n",
    "import secrets\n",
    "import streamlit as st\n",
    "import pandas as pd\n",
    "\n",
    "def connect_to_mongodb():\n",
    "    secrets = st.secrets[\"mongo\"]\n",
    "    conn_str = secrets[\"conn_str\"]\n",
    "    client = pymongo.MongoClient(conn_str)\n",
    "    db_name = client.ClimbingGradeFeedback\n",
    "    collection = db_name.ClimbingFeedbackStreamlit\n",
    "\n",
    "    return collection, client\n",
    "\n",
    "# Test the connection\n",
    "try:\n",
    "    collection, client = connect_to_mongodb()\n",
    "    # The ismaster command is cheap and does not require auth.\n",
    "    client.admin.command('ismaster')\n",
    "    print(\"MongoDB connection successful\")\n",
    "except Exception as e:\n",
    "    print(\"MongoDB connection unsuccessful\")\n",
    "    print(e)"
   ]
  },
  {
   "cell_type": "code",
   "execution_count": 15,
   "metadata": {},
   "outputs": [],
   "source": [
    "# Run the function to connect to MongoDB and get the cursor\n",
    "collection, client = connect_to_mongodb()\n",
    "\n",
    "# Query the MongoDB collection and get a cursor\n",
    "cursor = collection.find()\n",
    "\n",
    "# Create a copy of the cursor for later use\n",
    "cursor_copy = cursor.clone()"
   ]
  },
  {
   "cell_type": "code",
   "execution_count": 16,
   "metadata": {},
   "outputs": [],
   "source": [
    "# Convert the original cursor (cursor_copy) to a list and then create a DataFrame\n",
    "df = pd.DataFrame(list(cursor_copy))"
   ]
  },
  {
   "cell_type": "code",
   "execution_count": 17,
   "metadata": {},
   "outputs": [
    {
     "name": "stdout",
     "output_type": "stream",
     "text": [
      "actual_sport_grade\n",
      "6b+                                    20\n",
      "                                       16\n",
      "6b                                      8\n",
      "6c                                      7\n",
      "6a                                      6\n",
      "8a                                      5\n",
      "7a                                      5\n",
      "7c                                      5\n",
      "6c+                                     4\n",
      "7b                                      4\n",
      "7b+                                     4\n",
      "6b                                      3\n",
      "7a+                                     3\n",
      "V4                                      3\n",
      "7c+                                     3\n",
      "8a+                                     2\n",
      "5.12d                                   2\n",
      "8c+                                     2\n",
      "6b+                                     2\n",
      "5.11                                    2\n",
      "5.13                                    2\n",
      "Na                                      2\n",
      "8b                                      1\n",
      "7A+                                     1\n",
      "12.b                                    1\n",
      "5.12b                                   1\n",
      "N/A (like 11b, i don't sport climb)     1\n",
      "28                                      1\n",
      "5.11c                                   1\n",
      "7B+                                     1\n",
      "6C                                      1\n",
      "5.12c                                   1\n",
      "5c                                      1\n",
      "Unknown                                 1\n",
      "5.11a                                   1\n",
      "6B+                                     1\n",
      "Name: count, dtype: int64\n"
     ]
    }
   ],
   "source": [
    "# print the spread of values in the actual_sport_grade column and actual_boulder_grade column\n",
    "# this will help us to see if the data is clean, and if there are any values that need to be removed or changed\n",
    "print(df.actual_sport_grade.value_counts())\n"
   ]
  },
  {
   "cell_type": "code",
   "execution_count": 18,
   "metadata": {},
   "outputs": [
    {
     "name": "stdout",
     "output_type": "stream",
     "text": [
      "actual_bouldering_grade\n",
      "V6         17\n",
      "V5         13\n",
      "v8         12\n",
      "7b         10\n",
      "V4         10\n",
      "V11         9\n",
      "V8          9\n",
      "V9          6\n",
      "V7          4\n",
      "7a          4\n",
      "7A          3\n",
      "v6          3\n",
      "v7          3\n",
      "7B          2\n",
      "V10         2\n",
      "6b          2\n",
      "v5          2\n",
      "6c          2\n",
      "6a          2\n",
      " V6         1\n",
      "4           1\n",
      "V3          1\n",
      "v3          1\n",
      "v13         1\n",
      "7c+         1\n",
      "V12         1\n",
      "7B+         1\n",
      "{{7*7}}     1\n",
      "Name: count, dtype: int64\n"
     ]
    }
   ],
   "source": [
    "print(df.actual_bouldering_grade.value_counts())"
   ]
  },
  {
   "cell_type": "code",
   "execution_count": 25,
   "metadata": {},
   "outputs": [
    {
     "name": "stdout",
     "output_type": "stream",
     "text": [
      "    predicted_sport_grade                   actual_sport_grade\n",
      "2                     7a+                                     \n",
      "7                     7a+                                5.12c\n",
      "8                     7a+                                     \n",
      "11                     7a                                   28\n",
      "14                    6a+                                     \n",
      "17                     6b                                  6b \n",
      "18                     6b                                  6b \n",
      "19                     6b                                  6b \n",
      "22                     7a                                     \n",
      "25                    6c+  N/A (like 11b, i don't sport climb)\n",
      "26                     7a                                 12.b\n",
      "28                     7a                                     \n",
      "29                     7a                                     \n",
      "30                     7a                                   Na\n",
      "31                     7a                                   Na\n",
      "32                     7a                                 5.13\n",
      "33                     7a                                 5.13\n",
      "35                     7a                                 5.11\n",
      "37                     7a                                 5.11\n",
      "46                    6b+                                 6b+ \n",
      "47                    6b+                                 6b+ \n",
      "49                     7a                                5.12d\n",
      "50                     6b                                  7A+\n",
      "52                     7a                                     \n",
      "53                     6b                                     \n",
      "54                     7a                                5.12d\n",
      "58                    6a+                                5.12b\n",
      "61                    6b+                                     \n",
      "62                    6a+                                     \n",
      "63                    6b+                                   V4\n",
      "64                    6b+                                   V4\n",
      "65                     6c                                5.11c\n",
      "72                    6c+                                  7B+\n",
      "73                    6b+                                   6C\n",
      "77                    6a+                                     \n",
      "87                    6b+                                   V4\n",
      "93                    6a+                              Unknown\n",
      "95                     6c                                5.11a\n",
      "97                    6a+                                  6B+\n",
      "99                    6b+                                     \n",
      "100                   6b+                                     \n",
      "115                   6b+                                     \n",
      "116                   6b+                                     \n",
      "119                   6a+                                     \n"
     ]
    }
   ],
   "source": [
    "# List of grades to exclude\n",
    "excluded_grades = ['4c', '5a', '5b', '5c', '6a', '6a+', '6b', '6b+', '6c', '6c+', '7a', '7a+', '7b', '7b+', '7c', '7c+', '8a', '8a+', '8b', '8b+', '8c', '8c+', '9a', '9a+', '0']\n",
    "\n",
    "# Filter the DataFrame to get rows with max_sport_grade not in the excluded list\n",
    "filtered_df = df[~df['actual_sport_grade'].isin(excluded_grades)]\n",
    "\n",
    "# Select specific columns from the filtered DataFrame\n",
    "selected_columns = ['predicted_sport_grade', 'actual_sport_grade']\n",
    "filtered_df = filtered_df[selected_columns]\n",
    "\n",
    "# Display the resulting DataFrame\n",
    "print(filtered_df)"
   ]
  },
  {
   "cell_type": "code",
   "execution_count": 29,
   "metadata": {},
   "outputs": [],
   "source": [
    "# based on the above results, clean the data as needed\n",
    "df.fillna(0, inplace=True)\n",
    "df.replace('', 0, inplace=True)\n",
    "df.replace('Na', 0, inplace=True)\n",
    "df.replace('N/A (like 11b, i don\\'t sport climb)', 0, inplace=True)\n",
    "df.replace('Unknown', 0, inplace=True)\n",
    "df.replace('V4', 0, inplace=True)\n",
    "df.replace('28', 0, inplace=True)\n",
    "df.replace('12.b', 0, inplace=True)\n",
    "df.replace('5.12', '7a', inplace=True)\n",
    "df.replace('5.12a', '7a+', inplace=True)\n",
    "df.replace('5.12b', '7b', inplace=True)\n",
    "df.replace('5.12c', '7b+', inplace=True)\n",
    "df.replace('5.12d', '7c', inplace=True)\n",
    "df.replace('5.13', '7c', inplace=True)\n",
    "df.replace('5.13a', '7c+', inplace=True)\n",
    "df.replace('5.11', '6b+', inplace=True)\n",
    "df.replace('5.11a', '6c', inplace=True)\n",
    "df.replace('5.11b', '6c', inplace=True)\n",
    "df.replace('5.11c', '6c+', inplace=True)\n",
    "df.replace('5.11d', '7a', inplace=True)\n",
    "df.replace('6B+', '6b+', inplace=True)\n",
    "df.replace('6b+ ', '6b+', inplace=True)\n",
    "df.replace('6b ', '6b+', inplace=True)\n",
    "df.replace('6C', '6c', inplace=True)\n",
    "df.replace('7A+', '7a+', inplace=True)\n",
    "df.replace('7B+', '7b+', inplace=True)"
   ]
  },
  {
   "cell_type": "code",
   "execution_count": 30,
   "metadata": {},
   "outputs": [
    {
     "name": "stdout",
     "output_type": "stream",
     "text": [
      "actual_sport_grade\n",
      "6b+    28\n",
      "0      25\n",
      "6c      9\n",
      "7c      9\n",
      "6b      8\n",
      "6a      6\n",
      "7b+     6\n",
      "7a      5\n",
      "6c+     5\n",
      "7b      5\n",
      "8a      5\n",
      "7a+     4\n",
      "7c+     3\n",
      "8c+     2\n",
      "8a+     2\n",
      "8b      1\n",
      "5c      1\n",
      "Name: count, dtype: int64\n"
     ]
    }
   ],
   "source": [
    "# print the spread of values in the actual_sport_grade column and actual_boulder_grade column\n",
    "# this will help us to see if the data is clean, and if there are any values that need to be removed or changed\n",
    "print(df.actual_sport_grade.value_counts())"
   ]
  },
  {
   "cell_type": "code",
   "execution_count": 36,
   "metadata": {},
   "outputs": [
    {
     "name": "stdout",
     "output_type": "stream",
     "text": [
      "    predicted_bouldering_grade actual_bouldering_grade\n",
      "2                          V10                      v8\n",
      "3                            0                       0\n",
      "5                           V5                      7a\n",
      "6                            0                       0\n",
      "8                           V5                     7b+\n",
      "..                         ...                     ...\n",
      "115                         V6                 {{7*7}}\n",
      "118                         V7                      v7\n",
      "119                         V5                      v7\n",
      "122                         V6                      7a\n",
      "123                         V6                      7a\n",
      "\n",
      "[62 rows x 2 columns]\n"
     ]
    }
   ],
   "source": [
    "# Define the V grade list\n",
    "v_grade_list = [\"<V3\", \"V3\", \"V4\", \"V5\", \"V6\", \"V7\", \"V8\", \"V9\", \"V10\", \"V11\", \"V12\", \"V13\", \"V14\", \"V15\", \"V16\"]\n",
    "\n",
    "# Filter the DataFrame to get rows with max_bouldering_grade in the V grade list\n",
    "filtered_df = df[~df['actual_bouldering_grade'].isin(v_grade_list)]\n",
    "\n",
    "\n",
    "# Select specific columns from the filtered DataFrame\n",
    "selected_columns = ['predicted_bouldering_grade', 'actual_bouldering_grade']\n",
    "filtered_df = filtered_df[selected_columns]\n",
    "\n",
    "# Display the resulting DataFrame\n",
    "print(filtered_df)"
   ]
  },
  {
   "cell_type": "code",
   "execution_count": 68,
   "metadata": {},
   "outputs": [
    {
     "name": "stdout",
     "output_type": "stream",
     "text": [
      "Index(['_id', 'strength_to_weight_pullup', 'strength_to_weight_maxhang',\n",
      "       'strength_to_weight_weightpull', 'continuous', 'repeaters1', 'exp',\n",
      "       'trainexp', 'days', 'predicted_bouldering_grade',\n",
      "       'actual_bouldering_grade', 'predicted_sport_grade',\n",
      "       'actual_sport_grade', 'height', 'weight'],\n",
      "      dtype='object')\n",
      "51\n"
     ]
    }
   ],
   "source": [
    "print(df.columns)\n",
    "print(len(df))"
   ]
  },
  {
   "cell_type": "code",
   "execution_count": 69,
   "metadata": {},
   "outputs": [],
   "source": [
    "# remove the '_id' and predicted fields field and rename columns\n",
    "new_data_mongodb = df.drop(['_id','predicted_bouldering_grade','predicted_sport_grade','height','weight'], axis=1, inplace=True)\n",
    "new_data_mongodb = df.rename(columns={\n",
    "    'actual_bouldering_grade': 'max_boulder_grade',\n",
    "    'actual_sport_grade': 'max_sport_grade'\n",
    "})"
   ]
  },
  {
   "cell_type": "code",
   "execution_count": null,
   "metadata": {},
   "outputs": [],
   "source": [
    "# save the new data to include in the models\n",
    "new_data_mongodb.to_csv('new_data_mongodb.csv', index=False)"
   ]
  }
 ],
 "metadata": {
  "kernelspec": {
   "display_name": "base",
   "language": "python",
   "name": "python3"
  },
  "language_info": {
   "codemirror_mode": {
    "name": "ipython",
    "version": 3
   },
   "file_extension": ".py",
   "mimetype": "text/x-python",
   "name": "python",
   "nbconvert_exporter": "python",
   "pygments_lexer": "ipython3",
   "version": "3.10.13"
  },
  "orig_nbformat": 4
 },
 "nbformat": 4,
 "nbformat_minor": 2
}
