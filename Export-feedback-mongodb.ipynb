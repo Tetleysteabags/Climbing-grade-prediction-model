{
 "cells": [
  {
   "cell_type": "code",
   "execution_count": null,
   "metadata": {},
   "outputs": [],
   "source": [
    "import pymongo\n",
    "import pandas as pd\n",
    "\n",
    "def export_feedback_data():\n",
    "    # Connect to MongoDB\n",
    "    collection = connect_to_mongodb()\n",
    "\n",
    "    # Query MongoDB to retrieve feedback data\n",
    "    cursor = collection.find()\n",
    "\n",
    "    # Create a Pandas DataFrame to store the feedback data\n",
    "    feedback_df = pd.DataFrame(list(cursor))\n",
    "\n",
    "    # Optionally, you can filter and process the data as needed\n",
    "    # For example, you can drop unnecessary columns or perform any data cleaning.\n",
    "\n",
    "    return feedback_df\n"
   ]
  }
 ],
 "metadata": {
  "language_info": {
   "name": "python"
  },
  "orig_nbformat": 4
 },
 "nbformat": 4,
 "nbformat_minor": 2
}
