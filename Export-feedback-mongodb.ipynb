{
 "cells": [
  {
   "cell_type": "code",
   "execution_count": 63,
   "metadata": {},
   "outputs": [
    {
     "name": "stdout",
     "output_type": "stream",
     "text": [
      "MongoDB connection successful\n"
     ]
    }
   ],
   "source": [
    "import pymongo\n",
    "import streamlit as st\n",
    "import pandas as pd\n",
    "\n",
    "def connect_to_mongodb():\n",
    "    secrets = st.secrets[\"mongo\"]\n",
    "    conn_str = secrets[\"conn_str\"]\n",
    "    client = pymongo.MongoClient(conn_str)\n",
    "    db_name = client.ClimbingGradeFeedback\n",
    "    collection_name = db_name.ClimbingFeedbackStreamlit\n",
    "\n",
    "    return collection, client\n",
    "\n",
    "# Test the connection\n",
    "try:\n",
    "    collection, client = connect_to_mongodb()\n",
    "    # The ismaster command is cheap and does not require auth.\n",
    "    client.admin.command('ismaster')\n",
    "    print(\"MongoDB connection successful\")\n",
    "except Exception as e:\n",
    "    print(\"MongoDB connection unsuccessful\")\n",
    "    print(e)"
   ]
  },
  {
   "cell_type": "code",
   "execution_count": 64,
   "metadata": {},
   "outputs": [],
   "source": [
    "# Run the function to connect to MongoDB and get the cursor\n",
    "collection, client = connect_to_mongodb()\n",
    "\n",
    "# Query the MongoDB collection and get a cursor\n",
    "cursor = collection.find()\n",
    "\n",
    "# Create a copy of the cursor for later use\n",
    "cursor_copy = cursor.clone()"
   ]
  },
  {
   "cell_type": "code",
   "execution_count": 65,
   "metadata": {},
   "outputs": [],
   "source": [
    "# Convert the original cursor (cursor_copy) to a list and then create a DataFrame\n",
    "df = pd.DataFrame(list(cursor_copy))"
   ]
  },
  {
   "cell_type": "code",
   "execution_count": 71,
   "metadata": {},
   "outputs": [
    {
     "name": "stdout",
     "output_type": "stream",
     "text": [
      "actual_sport_grade\n",
      "0                                      6\n",
      "6c                                     4\n",
      "6b                                     4\n",
      "7c+                                    3\n",
      "7b                                     3\n",
      "6b                                     3\n",
      "6c+                                    3\n",
      "5.11                                   2\n",
      "7a                                     2\n",
      "8a                                     2\n",
      "7b+                                    2\n",
      "6b+                                    2\n",
      "6a                                     2\n",
      "Na                                     2\n",
      "5.13                                   2\n",
      "5.12d                                  1\n",
      "8c+                                    1\n",
      "7a+                                    1\n",
      "N/A (like 11b, i don't sport climb)    1\n",
      "8b                                     1\n",
      "12.b                                   1\n",
      "28                                     1\n",
      "5.12c                                  1\n",
      "7A+                                    1\n",
      "Name: count, dtype: int64\n",
      "actual_bouldering_grade\n",
      "V4     7\n",
      "V5     7\n",
      "V11    7\n",
      "V6     6\n",
      "V8     4\n",
      "v8     4\n",
      "V7     3\n",
      "7a     2\n",
      "v5     2\n",
      "6b     1\n",
      "v13    1\n",
      "V3     1\n",
      "7B     1\n",
      "7c+    1\n",
      "V10    1\n",
      "V12    1\n",
      "7B+    1\n",
      "V9     1\n",
      "Name: count, dtype: int64\n"
     ]
    }
   ],
   "source": [
    "# print the spread of values in the actual_sport_grade column and actual_boulder_grade column\n",
    "# this will help us to see if the data is clean, and if there are any values that need to be removed or changed\n",
    "print(df.actual_sport_grade.value_counts())\n"
   ]
  },
  {
   "cell_type": "code",
   "execution_count": null,
   "metadata": {},
   "outputs": [],
   "source": [
    "print(df.actual_bouldering_grade.value_counts())"
   ]
  },
  {
   "cell_type": "code",
   "execution_count": 66,
   "metadata": {},
   "outputs": [],
   "source": [
    "# based on the above results, clean the data as needed\n",
    "df.fillna(0, inplace=True)\n",
    "df.replace('', 0, inplace=True)\n",
    "df.replace('Na', 0, inplace=True)"
   ]
  },
  {
   "cell_type": "code",
   "execution_count": 67,
   "metadata": {},
   "outputs": [
    {
     "data": {
      "text/html": [
       "<div>\n",
       "<style scoped>\n",
       "    .dataframe tbody tr th:only-of-type {\n",
       "        vertical-align: middle;\n",
       "    }\n",
       "\n",
       "    .dataframe tbody tr th {\n",
       "        vertical-align: top;\n",
       "    }\n",
       "\n",
       "    .dataframe thead th {\n",
       "        text-align: right;\n",
       "    }\n",
       "</style>\n",
       "<table border=\"1\" class=\"dataframe\">\n",
       "  <thead>\n",
       "    <tr style=\"text-align: right;\">\n",
       "      <th></th>\n",
       "      <th>_id</th>\n",
       "      <th>strength_to_weight_pullup</th>\n",
       "      <th>strength_to_weight_maxhang</th>\n",
       "      <th>strength_to_weight_weightpull</th>\n",
       "      <th>continuous</th>\n",
       "      <th>repeaters1</th>\n",
       "      <th>exp</th>\n",
       "      <th>trainexp</th>\n",
       "      <th>days</th>\n",
       "      <th>predicted_bouldering_grade</th>\n",
       "      <th>actual_bouldering_grade</th>\n",
       "      <th>predicted_sport_grade</th>\n",
       "      <th>actual_sport_grade</th>\n",
       "      <th>height</th>\n",
       "      <th>weight</th>\n",
       "    </tr>\n",
       "  </thead>\n",
       "  <tbody>\n",
       "    <tr>\n",
       "      <th>0</th>\n",
       "      <td>653dffec24d1021354ce9a87</td>\n",
       "      <td>1.4</td>\n",
       "      <td>1.4</td>\n",
       "      <td>1.4</td>\n",
       "      <td>30.0</td>\n",
       "      <td>120.0</td>\n",
       "      <td>5.0</td>\n",
       "      <td>3.0</td>\n",
       "      <td>8.0</td>\n",
       "      <td>V5</td>\n",
       "      <td>V7</td>\n",
       "      <td>7a+</td>\n",
       "      <td>7c+</td>\n",
       "      <td>0</td>\n",
       "      <td>0</td>\n",
       "    </tr>\n",
       "    <tr>\n",
       "      <th>1</th>\n",
       "      <td>653e002024d1021354ce9a89</td>\n",
       "      <td>1.4</td>\n",
       "      <td>1.4</td>\n",
       "      <td>1.4</td>\n",
       "      <td>30.0</td>\n",
       "      <td>120.0</td>\n",
       "      <td>5.0</td>\n",
       "      <td>3.0</td>\n",
       "      <td>8.0</td>\n",
       "      <td>V5</td>\n",
       "      <td>V7</td>\n",
       "      <td>7a+</td>\n",
       "      <td>7b</td>\n",
       "      <td>0</td>\n",
       "      <td>0</td>\n",
       "    </tr>\n",
       "    <tr>\n",
       "      <th>2</th>\n",
       "      <td>653e050724d1021354ce9a8b</td>\n",
       "      <td>2.0256410256410255</td>\n",
       "      <td>3.5641025641025643</td>\n",
       "      <td>3.6666666666666665</td>\n",
       "      <td>200.0</td>\n",
       "      <td>1000.0</td>\n",
       "      <td>1.0</td>\n",
       "      <td>1.0</td>\n",
       "      <td>1.0</td>\n",
       "      <td>V10</td>\n",
       "      <td>v8</td>\n",
       "      <td>7a+</td>\n",
       "      <td>0</td>\n",
       "      <td>0</td>\n",
       "      <td>0</td>\n",
       "    </tr>\n",
       "    <tr>\n",
       "      <th>3</th>\n",
       "      <td>653e0bdd24d1021354ce9a8d</td>\n",
       "      <td>1.1310043668122272</td>\n",
       "      <td>1.0</td>\n",
       "      <td>1.0</td>\n",
       "      <td>2.0</td>\n",
       "      <td>10.0</td>\n",
       "      <td>1.0</td>\n",
       "      <td>1.0</td>\n",
       "      <td>0.0</td>\n",
       "      <td>V4</td>\n",
       "      <td>V4</td>\n",
       "      <td>5c</td>\n",
       "      <td>6a</td>\n",
       "      <td>0</td>\n",
       "      <td>0</td>\n",
       "    </tr>\n",
       "    <tr>\n",
       "      <th>4</th>\n",
       "      <td>653e0cc224d1021354ce9a8f</td>\n",
       "      <td>1.4</td>\n",
       "      <td>1.4</td>\n",
       "      <td>1.4</td>\n",
       "      <td>30.0</td>\n",
       "      <td>120.0</td>\n",
       "      <td>5.0</td>\n",
       "      <td>3.0</td>\n",
       "      <td>8.0</td>\n",
       "      <td>V5</td>\n",
       "      <td>V8</td>\n",
       "      <td>7a+</td>\n",
       "      <td>7b+</td>\n",
       "      <td>0</td>\n",
       "      <td>0</td>\n",
       "    </tr>\n",
       "  </tbody>\n",
       "</table>\n",
       "</div>"
      ],
      "text/plain": [
       "                        _id strength_to_weight_pullup  \\\n",
       "0  653dffec24d1021354ce9a87                       1.4   \n",
       "1  653e002024d1021354ce9a89                       1.4   \n",
       "2  653e050724d1021354ce9a8b        2.0256410256410255   \n",
       "3  653e0bdd24d1021354ce9a8d        1.1310043668122272   \n",
       "4  653e0cc224d1021354ce9a8f                       1.4   \n",
       "\n",
       "  strength_to_weight_maxhang strength_to_weight_weightpull continuous  \\\n",
       "0                        1.4                           1.4       30.0   \n",
       "1                        1.4                           1.4       30.0   \n",
       "2         3.5641025641025643            3.6666666666666665      200.0   \n",
       "3                        1.0                           1.0        2.0   \n",
       "4                        1.4                           1.4       30.0   \n",
       "\n",
       "  repeaters1  exp trainexp days predicted_bouldering_grade  \\\n",
       "0      120.0  5.0      3.0  8.0                         V5   \n",
       "1      120.0  5.0      3.0  8.0                         V5   \n",
       "2     1000.0  1.0      1.0  1.0                        V10   \n",
       "3       10.0  1.0      1.0  0.0                         V4   \n",
       "4      120.0  5.0      3.0  8.0                         V5   \n",
       "\n",
       "  actual_bouldering_grade predicted_sport_grade actual_sport_grade height  \\\n",
       "0                      V7                   7a+                7c+      0   \n",
       "1                      V7                   7a+                 7b      0   \n",
       "2                      v8                   7a+                  0      0   \n",
       "3                      V4                    5c                 6a      0   \n",
       "4                      V8                   7a+                7b+      0   \n",
       "\n",
       "  weight  \n",
       "0      0  \n",
       "1      0  \n",
       "2      0  \n",
       "3      0  \n",
       "4      0  "
      ]
     },
     "execution_count": 67,
     "metadata": {},
     "output_type": "execute_result"
    }
   ],
   "source": [
    "df.head()"
   ]
  },
  {
   "cell_type": "code",
   "execution_count": 68,
   "metadata": {},
   "outputs": [
    {
     "name": "stdout",
     "output_type": "stream",
     "text": [
      "Index(['_id', 'strength_to_weight_pullup', 'strength_to_weight_maxhang',\n",
      "       'strength_to_weight_weightpull', 'continuous', 'repeaters1', 'exp',\n",
      "       'trainexp', 'days', 'predicted_bouldering_grade',\n",
      "       'actual_bouldering_grade', 'predicted_sport_grade',\n",
      "       'actual_sport_grade', 'height', 'weight'],\n",
      "      dtype='object')\n",
      "51\n"
     ]
    }
   ],
   "source": [
    "print(df.columns)\n",
    "print(len(df))"
   ]
  },
  {
   "cell_type": "code",
   "execution_count": 69,
   "metadata": {},
   "outputs": [],
   "source": [
    "# remove the '_id' and predicted fields field and rename columns\n",
    "new_data_mongodb = df.drop(['_id','predicted_bouldering_grade','predicted_sport_grade','height','weight'], axis=1, inplace=True)\n",
    "new_data_mongodb = df.rename(columns={\n",
    "    'actual_bouldering_grade': 'max_boulder_grade',\n",
    "    'actual_sport_grade': 'max_sport_grade'\n",
    "})"
   ]
  },
  {
   "cell_type": "code",
   "execution_count": null,
   "metadata": {},
   "outputs": [],
   "source": [
    "# save the new data to include in the models\n",
    "new_data_mongodb.to_csv('new_data_mongodb.csv', index=False)"
   ]
  }
 ],
 "metadata": {
  "kernelspec": {
   "display_name": "base",
   "language": "python",
   "name": "python3"
  },
  "language_info": {
   "codemirror_mode": {
    "name": "ipython",
    "version": 3
   },
   "file_extension": ".py",
   "mimetype": "text/x-python",
   "name": "python",
   "nbconvert_exporter": "python",
   "pygments_lexer": "ipython3",
   "version": "3.10.13"
  },
  "orig_nbformat": 4
 },
 "nbformat": 4,
 "nbformat_minor": 2
}
